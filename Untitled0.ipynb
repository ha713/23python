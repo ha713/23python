{
  "nbformat": 4,
  "nbformat_minor": 0,
  "metadata": {
    "colab": {
      "provenance": [],
      "authorship_tag": "ABX9TyNBzzJ2E7ywhM/OWmPAgBFc",
      "include_colab_link": true
    },
    "kernelspec": {
      "name": "python3",
      "display_name": "Python 3"
    },
    "language_info": {
      "name": "python"
    }
  },
  "cells": [
    {
      "cell_type": "markdown",
      "metadata": {
        "id": "view-in-github",
        "colab_type": "text"
      },
      "source": [
        "<a href=\"https://colab.research.google.com/github/ha713/23python/blob/main/Untitled0.ipynb\" target=\"_parent\"><img src=\"https://colab.research.google.com/assets/colab-badge.svg\" alt=\"Open In Colab\"/></a>"
      ]
    },
    {
      "cell_type": "code",
      "execution_count": null,
      "metadata": {
        "id": "_QTm4F061Vxz"
      },
      "outputs": [],
      "source": []
    },
    {
      "cell_type": "markdown",
      "source": [
        "4. 사용자로부터 2개의 정수를 받아서 합계를 출력하시오.\n",
        " - 정수x\n",
        " - 정수y\n",
        "\n",
        ""
      ],
      "metadata": {
        "id": "ZTOVsWSO1g-x"
      }
    },
    {
      "cell_type": "code",
      "source": [
        "print(\"정수 2개를 입력하시오.:\")\n",
        "x = int(input('x의 값을 입력하시오.: '))\n",
        "y = int(input('y의 값을 입력하시오.: '))\n",
        "sum = x + y\n",
        "print(sum)\n",
        "print(f'정수 {x} + 정수 {y}의 값은 {sum}이다.')"
      ],
      "metadata": {
        "colab": {
          "base_uri": "https://localhost:8080/"
        },
        "id": "5zibB45c1tIj",
        "outputId": "00092a17-6817-44f5-f3ba-9ae8ff7f915c"
      },
      "execution_count": 1,
      "outputs": [
        {
          "output_type": "stream",
          "name": "stdout",
          "text": [
            "정수 2개를 입력하시오.:\n",
            "x의 값을 입력하시오.: 6\n",
            "y의 값을 입력하시오.: 5\n",
            "11\n",
            "정수 6 + 정수 5의 값은 11이다.\n"
          ]
        }
      ]
    },
    {
      "cell_type": "markdown",
      "source": [
        "5. 부가세를 계산히시오.\n",
        "- 상품의 가격(price)\n",
        "- 부가세(vat)\n"
      ],
      "metadata": {
        "id": "FojroTkX2WX4"
      }
    },
    {
      "cell_type": "code",
      "source": [
        "print(\"상품의 가격을 입력하시오.: \")\n",
        "price = int(input('상품의 가격: '))\n",
        "vat = price * 0.1\n",
        "print(vat)\n",
        "print(f'상품의 가격은 {price}이며, 부가세는 {vat}이다.')"
      ],
      "metadata": {
        "colab": {
          "base_uri": "https://localhost:8080/"
        },
        "id": "3hdAtIpG2hyJ",
        "outputId": "fb6cc255-e25d-4f1d-a447-0bb6522eb477"
      },
      "execution_count": 3,
      "outputs": [
        {
          "output_type": "stream",
          "name": "stdout",
          "text": [
            "상품의 가격을 입력하시오.: \n",
            "상품의 가격: 2000\n",
            "200.0\n",
            "상품의 가격은 2000이며, 부가세는 200.0이다.\n"
          ]
        }
      ]
    }
  ]
}